{
  "cells": [
    {
      "cell_type": "markdown",
      "metadata": {
        "id": "qV3lG9qbHq_b"
      },
      "source": [
        "# Libraries"
      ]
    },
    {
      "cell_type": "code",
      "execution_count": 1,
      "metadata": {
        "id": "Jz8xersZHq_c"
      },
      "outputs": [],
      "source": [
        "import pickle\n",
        "import pandas as pd\n",
        "import seaborn as sns\n",
        "import numpy as np\n",
        "from textblob import TextBlob\n",
        "from sklearn.feature_extraction.text import TfidfVectorizer\n",
        "from os.path import exists\n",
        "import matplotlib.pyplot as plt\n",
        "from sklearn.neighbors import KNeighborsClassifier\n",
        "from sklearn.model_selection import train_test_split\n",
        "from sklearn.metrics import accuracy_score, confusion_matrix\n",
        "from google.colab import drive\n",
        "from google.colab import files\n",
        "import os\n",
        "from sklearn.preprocessing import StandardScaler\n",
        "from sklearn.decomposition import PCA\n",
        "from sklearn.model_selection import cross_val_score"
      ]
    },
    {
      "cell_type": "markdown",
      "metadata": {
        "id": "S4-3iBw7Hq_d"
      },
      "source": [
        "# Loading the Files\n",
        "\n",
        "Download the csv files into the `data/` directory."
      ]
    },
    {
      "cell_type": "code",
      "execution_count": 2,
      "metadata": {
        "id": "zy3O3VrYHq_d",
        "colab": {
          "base_uri": "https://localhost:8080/",
          "height": 1000
        },
        "outputId": "4d6fc590-e40b-4b6d-a5f8-559ee35bf056"
      },
      "outputs": [
        {
          "output_type": "stream",
          "name": "stdout",
          "text": [
            "Drive already mounted at /content/drive; to attempt to forcibly remount, call drive.mount(\"/content/drive\", force_remount=True).\n",
            "train.csv shape is  (1697533, 9)\n",
            "test.csv shape is  (212192, 2)\n",
            "\n",
            "        Id   ProductId          UserId  HelpfulnessNumerator  \\\n",
            "0   914403  B0009W5KHM   AV6QDP8Q0ONK4                     2   \n",
            "1   354887  6303079709  A2I8RXJN80A2D2                     0   \n",
            "2  1407653  B004H0M2XC  A3FHV3RV8Z12E6                     0   \n",
            "3  1377458  B003ZJ9536  A12VLTA3ZHVPUY                     1   \n",
            "4   475323  630574453X  A13NM1PES9OXVN                     2   \n",
            "\n",
            "   HelpfulnessDenominator        Time  \\\n",
            "0                       2  1341014400   \n",
            "1                       0  1168819200   \n",
            "2                       0  1386201600   \n",
            "3                       1  1348704000   \n",
            "4                       3   970012800   \n",
            "\n",
            "                                         Summary  \\\n",
            "0                                  GOOD FUN FILM   \n",
            "1                                   Movie Review   \n",
            "2             When is it a good time to Consent?   \n",
            "3                                          TRUTH   \n",
            "4  Intelligent and bittersweet -- stays with you   \n",
            "\n",
            "                                                Text  Score  \n",
            "0  While most straight to DVD films are not worth...    5.0  \n",
            "1  I have wanted this one for sometime, also.  I ...    5.0  \n",
            "2  Actually this was a pretty darn good indie fil...    4.0  \n",
            "3  Episodes 37 to 72 of the series press on in a ...    5.0  \n",
            "4  I was really impressed with this movie, but wa...    3.0  \n",
            "\n",
            "        Id  Score\n",
            "0  1323432    NaN\n",
            "1  1137299    NaN\n",
            "2  1459366    NaN\n",
            "3   931601    NaN\n",
            "4  1311995    NaN\n",
            "\n",
            "                 Id  HelpfulnessNumerator  HelpfulnessDenominator  \\\n",
            "count  1.697533e+06          1.697533e+06            1.697533e+06   \n",
            "mean   8.487660e+05          3.569048e+00            5.301422e+00   \n",
            "std    4.900357e+05          1.727883e+01            2.024445e+01   \n",
            "min    0.000000e+00          0.000000e+00            0.000000e+00   \n",
            "25%    4.243830e+05          0.000000e+00            0.000000e+00   \n",
            "50%    8.487660e+05          1.000000e+00            1.000000e+00   \n",
            "75%    1.273149e+06          3.000000e+00            5.000000e+00   \n",
            "max    1.697532e+06          6.084000e+03            6.510000e+03   \n",
            "\n",
            "               Time         Score  \n",
            "count  1.697533e+06  1.485341e+06  \n",
            "mean   1.262422e+09  4.110517e+00  \n",
            "std    1.289277e+08  1.197651e+00  \n",
            "min    8.793792e+08  1.000000e+00  \n",
            "25%    1.164413e+09  4.000000e+00  \n",
            "50%    1.307491e+09  5.000000e+00  \n",
            "75%    1.373242e+09  5.000000e+00  \n",
            "max    1.406074e+09  5.000000e+00  \n"
          ]
        },
        {
          "output_type": "display_data",
          "data": {
            "text/plain": [
              "<Figure size 640x480 with 1 Axes>"
            ],
            "image/png": "[encoded data removed]"
          },
          "metadata": {}
        },
        {
          "output_type": "stream",
          "name": "stdout",
          "text": [
            "\n",
            "EVERYTHING IS PROPERLY SET UP! YOU ARE READY TO START\n"
          ]
        }
      ],
      "source": [
        "from google.colab import drive\n",
        "drive.mount('/content/drive')\n",
        "\n",
        "trainingSet = pd.read_csv(\"/content/drive/My Drive/train.csv\")\n",
        "testingSet = pd.read_csv(\"/content/drive/My Drive/test.csv\")\n",
        "\n",
        "print(\"train.csv shape is \", trainingSet.shape)\n",
        "print(\"test.csv shape is \", testingSet.shape)\n",
        "\n",
        "print()\n",
        "\n",
        "print(trainingSet.head())\n",
        "print()\n",
        "print(testingSet.head())\n",
        "\n",
        "print()\n",
        "\n",
        "print(trainingSet.describe())\n",
        "\n",
        "trainingSet['Score'].value_counts().plot(kind='bar', legend=True, alpha=.5)\n",
        "plt.show()\n",
        "\n",
        "print()\n",
        "print(\"EVERYTHING IS PROPERLY SET UP! YOU ARE READY TO START\")"
      ]
    },
    {
      "cell_type": "markdown",
      "metadata": {
        "id": "9BE5LTXXHq_d"
      },
      "source": [
        "# Adding Features"
      ]
    },
    {
      "cell_type": "code",
      "execution_count": 3,
      "metadata": {
        "id": "ft5VNtmqHq_d"
      },
      "outputs": [],
      "source": [
        "# Feature extraction function\n",
        "def add_features_to(df):\n",
        "    # Fill NaN values in the 'Text' column with empty strings\n",
        "    df['Text'] = df['Text'].fillna('')\n",
        "\n",
        "    # Helpfulness feature\n",
        "    df['Helpfulness'] = df['HelpfulnessNumerator'] / df['HelpfulnessDenominator']\n",
        "    df['Helpfulness'] = df['Helpfulness'].fillna(0)\n",
        "\n",
        "    # Review Length as a feature and avg word length\n",
        "    df['ReviewLength'] = df['Text'].apply(lambda x: len(str(x).split()))\n",
        "    df['AvgWordLength'] = df['Text'].apply(lambda x: np.mean([len(word) for word in str(x).split()]))\n",
        "\n",
        "    return df\n",
        "\n",
        "# Load pre-processed data if available\n",
        "if exists('./data/X_train.csv'):\n",
        "    X_train = pd.read_csv(\"./data/X_train.csv\")\n",
        "if exists('./data/X_submission.csv'):\n",
        "    X_submission = pd.read_csv(\"./data/X_submission.csv\")\n",
        "else:\n",
        "    # Process the DataFrame\n",
        "    train = add_features_to(trainingSet)\n",
        "\n",
        "    # Merge on Id so that the submission set can have feature columns as well\n",
        "    X_submission = pd.merge(train, testingSet, left_on='Id', right_on='Id')\n",
        "    X_submission = X_submission.drop(columns=['Score_x'])\n",
        "    X_submission = X_submission.rename(columns={'Score_y': 'Score'})\n",
        "\n",
        "    # The training set is where the score is not null\n",
        "    X_train = train[train['Score'].notnull()]\n",
        "\n",
        "# Save processed data\n",
        "if not os.path.exists('./data'):\n",
        "    os.makedirs('./data')\n",
        "X_submission.to_csv(\"./data/X_submission.csv\", index=False)\n",
        "X_train.to_csv(\"./data/X_train.csv\", index=False)"
      ]
    },
    {
      "cell_type": "markdown",
      "metadata": {
        "id": "vBadgOKaHq_d"
      },
      "source": [
        "# Sample + Split into training and testing set"
      ]
    },
    {
      "cell_type": "code",
      "execution_count": 5,
      "metadata": {
        "id": "oLlgm_lvHq_e"
      },
      "outputs": [],
      "source": [
        "# Split training set into training and testing set\n",
        "X_train, X_test, Y_train, Y_test = train_test_split(\n",
        "    X_train.drop(columns=['Score']),\n",
        "    X_train['Score'],\n",
        "    test_size=1/4.0,\n",
        "    random_state=0\n",
        ")"
      ]
    },
    {
      "cell_type": "markdown",
      "metadata": {
        "id": "hi-qACESHq_e"
      },
      "source": [
        "# Feature Selection"
      ]
    },
    {
      "cell_type": "code",
      "execution_count": 6,
      "metadata": {
        "id": "KPyDFVzmHq_e"
      },
      "outputs": [],
      "source": [
        "features = ['HelpfulnessNumerator', 'HelpfulnessDenominator', 'Time', 'Helpfulness']\n",
        "\n",
        "X_train_select = X_train[features]\n",
        "X_test_select = X_test[features]\n",
        "X_submission_select = X_submission[features]"
      ]
    },
    {
      "cell_type": "code",
      "source": [
        "#Feature scaling\n",
        "from sklearn.preprocessing import StandardScaler\n",
        "\n",
        "scaler = StandardScaler()\n",
        "X_train_select = scaler.fit_transform(X_train_select)\n",
        "X_test_select = scaler.transform(X_test_select)\n",
        "X_submission_select = scaler.transform(X_submission_select)"
      ],
      "metadata": {
        "id": "Us68QXinu3nN"
      },
      "execution_count": 7,
      "outputs": []
    },
    {
      "cell_type": "code",
      "source": [
        "#Dimensionality reduction\n",
        "from sklearn.decomposition import PCA\n",
        "\n",
        "pca = PCA(n_components=4)  # Set n_components to 3 or any number <= number of features\n",
        "X_train_select = pca.fit_transform(X_train_select)\n",
        "X_test_select = pca.transform(X_test_select)\n",
        "X_submission_select = pca.transform(X_submission_select)\n"
      ],
      "metadata": {
        "id": "ihd9f-BqvBek"
      },
      "execution_count": 8,
      "outputs": []
    },
    {
      "cell_type": "markdown",
      "metadata": {
        "id": "F5oU8P00Hq_e"
      },
      "source": [
        "# Model Creation"
      ]
    },
    {
      "cell_type": "code",
      "execution_count": 9,
      "metadata": {
        "id": "rpndWbuOHq_e"
      },
      "outputs": [],
      "source": [
        "# Learn the model\n",
        "model = KNeighborsClassifier(n_neighbors=500).fit(X_train_select, Y_train)\n",
        "\n",
        "# Predict the score using the model\n",
        "Y_test_predictions = model.predict(X_test_select)"
      ]
    },
    {
      "cell_type": "code",
      "source": [
        "# cross validation\n",
        "cv_scores = cross_val_score(model, X_train_select, Y_train, cv=50, scoring='accuracy')\n",
        "print(f\"Cross-Validation Accuracy Scores: {cv_scores}\")\n",
        "print(f\"Mean Cross-Validation Accuracy: {cv_scores.mean()}\")\n",
        "print(\"Accuracy on testing set = \", accuracy_score(Y_test, Y_test_predictions))"
      ],
      "metadata": {
        "colab": {
          "base_uri": "https://localhost:8080/"
        },
        "id": "28vnJg8xvjZz",
        "outputId": "114d3665-5f47-480a-f5c2-763a52184767"
      },
      "execution_count": 10,
      "outputs": [
        {
          "output_type": "stream",
          "name": "stdout",
          "text": [
            "Cross-Validation Accuracy Scores: [0.55253355 0.55302724 0.55495714 0.55284772 0.55181545 0.55359066\n",
            " 0.55305206 0.552693   0.5513465  0.55264811 0.55341113 0.55412926\n",
            " 0.55228905 0.55246858 0.55525135 0.55251346 0.55363555 0.55399461\n",
            " 0.55417415 0.55089767 0.55345601 0.55435368 0.55260323 0.5532316\n",
            " 0.55341113 0.55359066 0.55143627 0.55341113 0.55372531 0.55192998\n",
            " 0.55157092 0.55336625 0.55354578 0.5518851  0.5521544  0.55417415\n",
            " 0.5540395  0.55175045 0.55206463 0.55372531 0.5529623  0.5535009\n",
            " 0.5524237  0.55417415 0.55219928 0.55044883 0.5510772  0.55327648\n",
            " 0.55251346 0.55394973]\n",
            "Mean Cross-Validation Accuracy: 0.5529445554927325\n",
            "Accuracy on testing set =  0.5525319387293448\n"
          ]
        }
      ]
    },
    {
      "cell_type": "markdown",
      "metadata": {
        "id": "6eRt4syPHq_e"
      },
      "source": [
        "# Model Evaluation"
      ]
    },
    {
      "cell_type": "code",
      "execution_count": 11,
      "metadata": {
        "id": "Y1p7q_M5Hq_e",
        "outputId": "00a97cb3-e8f7-4f42-b7dc-788293485072",
        "colab": {
          "base_uri": "https://localhost:8080/",
          "height": 490
        }
      },
      "outputs": [
        {
          "output_type": "stream",
          "name": "stdout",
          "text": [
            "Accuracy on testing set =  0.5525319387293448\n"
          ]
        },
        {
          "output_type": "display_data",
          "data": {
            "text/plain": [
              "<Figure size 640x480 with 2 Axes>"
            ],
            "image/png": "[encoded data removed]"
          },
          "metadata": {}
        }
      ],
      "source": [
        "# Evaluate your model on the testing set\n",
        "print(\"Accuracy on testing set = \", accuracy_score(Y_test, Y_test_predictions))\n",
        "\n",
        "# Plot a confusion matrix\n",
        "cm = confusion_matrix(Y_test, Y_test_predictions, normalize='true')\n",
        "sns.heatmap(cm, annot=True)\n",
        "plt.title('Confusion matrix of the classifier')\n",
        "plt.xlabel('Predicted')\n",
        "plt.ylabel('True')\n",
        "plt.show()"
      ]
    },
    {
      "cell_type": "markdown",
      "metadata": {
        "id": "eDnPmuekHq_e"
      },
      "source": [
        "# Create submission file"
      ]
    },
    {
      "cell_type": "code",
      "execution_count": 12,
      "metadata": {
        "id": "94uaFoe0Hq_e",
        "colab": {
          "base_uri": "https://localhost:8080/",
          "height": 17
        },
        "outputId": "ac42461f-cda5-4b8a-9562-e488a92edd21"
      },
      "outputs": [
        {
          "output_type": "display_data",
          "data": {
            "text/plain": [
              "<IPython.core.display.Javascript object>"
            ],
            "application/javascript": [
              "\n",
              "    async function download(id, filename, size) {\n",
              "      if (!google.colab.kernel.accessAllowed) {\n",
              "        return;\n",
              "      }\n",
              "      const div = document.createElement('div');\n",
              "      const label = document.createElement('label');\n",
              "      label.textContent = `Downloading \"${filename}\": `;\n",
              "      div.appendChild(label);\n",
              "      const progress = document.createElement('progress');\n",
              "      progress.max = size;\n",
              "      div.appendChild(progress);\n",
              "      document.body.appendChild(div);\n",
              "\n",
              "      const buffers = [];\n",
              "      let downloaded = 0;\n",
              "\n",
              "      const channel = await google.colab.kernel.comms.open(id);\n",
              "      // Send a message to notify the kernel that we're ready.\n",
              "      channel.send({})\n",
              "\n",
              "      for await (const message of channel.messages) {\n",
              "        // Send a message to notify the kernel that we're ready.\n",
              "        channel.send({})\n",
              "        if (message.buffers) {\n",
              "          for (const buffer of message.buffers) {\n",
              "            buffers.push(buffer);\n",
              "            downloaded += buffer.byteLength;\n",
              "            progress.value = downloaded;\n",
              "          }\n",
              "        }\n",
              "      }\n",
              "      const blob = new Blob(buffers, {type: 'application/binary'});\n",
              "      const a = document.createElement('a');\n",
              "      a.href = window.URL.createObjectURL(blob);\n",
              "      a.download = filename;\n",
              "      div.appendChild(a);\n",
              "      a.click();\n",
              "      div.remove();\n",
              "    }\n",
              "  "
            ]
          },
          "metadata": {}
        },
        {
          "output_type": "display_data",
          "data": {
            "text/plain": [
              "<IPython.core.display.Javascript object>"
            ],
            "application/javascript": [
              "download(\"download_50f40ae4-de90-4377-b84d-2342ece3d83d\", \"submission.csv\", 2407528)"
            ]
          },
          "metadata": {}
        }
      ],
      "source": [
        "# Create the submission file\n",
        "X_submission['Score'] = model.predict(X_submission_select)\n",
        "submission = X_submission[['Id', 'Score']]\n",
        "submission.to_csv(\"./data/submission.csv\", index=False)\n",
        "from google.colab import files\n",
        "files.download(\"./data/submission.csv\")"
      ]
    }
  ],
  "metadata": {
    "kernelspec": {
      "display_name": "env",
      "language": "python",
      "name": "python3"
    },
    "language_info": {
      "codemirror_mode": {
        "name": "ipython",
        "version": 3
      },
      "file_extension": ".py",
      "mimetype": "text/x-python",
      "name": "python",
      "nbconvert_exporter": "python",
      "pygments_lexer": "ipython3",
      "version": "3.12.3"
    },
    "colab": {
      "provenance": []
    }
  },
  "nbformat": 4,
  "nbformat_minor": 0
}